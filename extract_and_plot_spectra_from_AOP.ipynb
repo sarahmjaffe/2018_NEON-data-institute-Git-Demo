{
 "cells": [
  {
   "cell_type": "markdown",
   "metadata": {},
   "source": [
    "### Code to extract and plot spectra from a single NEON AOP pixel  \n",
    "Naupaka Zimmerman  \n",
    "July 10th, 2018  \n",
    "nzimmerman@usfca.edu  \n",
    "\n",
    "The goal is to extract a single pixel from a hyperspectral hdf5 file and plot 3 figures, both without removing bad bands of unusable data and with those bands.  We also want to export a csv of the cleaned wavelength and reflectance info for use later."
   ]
  },
  {
   "cell_type": "code",
   "execution_count": 5,
   "metadata": {},
   "outputs": [],
   "source": [
    "import h5py\n",
    "import numpy as np\n",
    "import pandas as pd\n",
    "import matplotlib.pyplot as plt\n",
    "from copy import copy #only imports copy from copy function only\n",
    "import IPython\n",
    "%matplotlib inline "
   ]
  },
  {
   "cell_type": "code",
   "execution_count": 6,
   "metadata": {},
   "outputs": [],
   "source": [
    "refl_filename = ('../data/NEON_D17_SJER_DP1_20180401_184649_reflectance.h5')"
   ]
  },
  {
   "cell_type": "code",
   "execution_count": 7,
   "metadata": {},
   "outputs": [
    {
     "data": {
      "text/plain": [
       "(100, 100)"
      ]
     },
     "execution_count": 7,
     "metadata": {},
     "output_type": "execute_result"
    }
   ],
   "source": [
    "pixel_to_plot = (100,100)\n",
    "pixel_to_plot"
   ]
  },
  {
   "cell_type": "code",
   "execution_count": 8,
   "metadata": {},
   "outputs": [],
   "source": [
    "# Read in reflectance hdf5 file\n",
    "hdf5_file = h5py.File(refl_filename, 'r')"
   ]
  },
  {
   "cell_type": "code",
   "execution_count": 9,
   "metadata": {},
   "outputs": [
    {
     "data": {
      "text/plain": [
       "<HDF5 file \"NEON_D17_SJER_DP1_20180401_184649_reflectance.h5\" (mode r)>"
      ]
     },
     "execution_count": 9,
     "metadata": {},
     "output_type": "execute_result"
    }
   ],
   "source": [
    "hdf5_file"
   ]
  },
  {
   "cell_type": "code",
   "execution_count": 20,
   "metadata": {},
   "outputs": [],
   "source": [
    "# Get the file name\n",
    "file_attrs_string = str(list(hdf5_file.items()))"
   ]
  },
  {
   "cell_type": "code",
   "execution_count": 21,
   "metadata": {},
   "outputs": [
    {
     "data": {
      "text/plain": [
       "'[(\\'SJER\\', <HDF5 group \"/SJER\" (1 members)>)]'"
      ]
     },
     "execution_count": 21,
     "metadata": {},
     "output_type": "execute_result"
    }
   ],
   "source": [
    "file_attrs_string"
   ]
  },
  {
   "cell_type": "code",
   "execution_count": 22,
   "metadata": {},
   "outputs": [
    {
     "data": {
      "text/plain": [
       "['[(', 'SJER', ', <HDF5 group \"/SJER\" (1 members)>)]']"
      ]
     },
     "execution_count": 22,
     "metadata": {},
     "output_type": "execute_result"
    }
   ],
   "source": [
    "file_attrs_string_split = file_attrs_string.split(\"'\")\n",
    "file_attrs_string_split"
   ]
  },
  {
   "cell_type": "code",
   "execution_count": 23,
   "metadata": {},
   "outputs": [
    {
     "data": {
      "text/plain": [
       "'SJER'"
      ]
     },
     "execution_count": 23,
     "metadata": {},
     "output_type": "execute_result"
    }
   ],
   "source": [
    "sitename = file_attrs_string_split[1]\n",
    "sitename"
   ]
  },
  {
   "cell_type": "code",
   "execution_count": 24,
   "metadata": {},
   "outputs": [],
   "source": [
    "# Extract the reflectance\n",
    "refl = hdf5_file[sitename]['Reflectance']"
   ]
  },
  {
   "cell_type": "code",
   "execution_count": 25,
   "metadata": {},
   "outputs": [
    {
     "data": {
      "text/plain": [
       "<HDF5 group \"/SJER/Reflectance\" (2 members)>"
      ]
     },
     "execution_count": 25,
     "metadata": {},
     "output_type": "execute_result"
    }
   ],
   "source": [
    "refl"
   ]
  },
  {
   "cell_type": "code",
   "execution_count": 26,
   "metadata": {},
   "outputs": [
    {
     "data": {
      "text/plain": [
       "<HDF5 dataset \"Reflectance_Data\": shape (216, 699, 426), type \"<i2\">"
      ]
     },
     "execution_count": 26,
     "metadata": {},
     "output_type": "execute_result"
    }
   ],
   "source": [
    "# Get the reflectance data\n",
    "reflData = refl['Reflectance_Data']\n",
    "reflData"
   ]
  },
  {
   "cell_type": "code",
   "execution_count": 27,
   "metadata": {},
   "outputs": [
    {
     "data": {
      "text/plain": [
       "array([[[-9999, -9999, -9999, ..., -9999, -9999, -9999],\n",
       "        [-9999, -9999, -9999, ..., -9999, -9999, -9999],\n",
       "        [-9999, -9999, -9999, ..., -9999, -9999, -9999],\n",
       "        ...,\n",
       "        [-9999, -9999, -9999, ..., -9999, -9999, -9999],\n",
       "        [-9999, -9999, -9999, ..., -9999, -9999, -9999],\n",
       "        [-9999, -9999, -9999, ..., -9999, -9999, -9999]],\n",
       "\n",
       "       [[-9999, -9999, -9999, ..., -9999, -9999, -9999],\n",
       "        [-9999, -9999, -9999, ..., -9999, -9999, -9999],\n",
       "        [-9999, -9999, -9999, ..., -9999, -9999, -9999],\n",
       "        ...,\n",
       "        [-9999, -9999, -9999, ..., -9999, -9999, -9999],\n",
       "        [-9999, -9999, -9999, ..., -9999, -9999, -9999],\n",
       "        [-9999, -9999, -9999, ..., -9999, -9999, -9999]],\n",
       "\n",
       "       [[-9999, -9999, -9999, ..., -9999, -9999, -9999],\n",
       "        [-9999, -9999, -9999, ..., -9999, -9999, -9999],\n",
       "        [-9999, -9999, -9999, ..., -9999, -9999, -9999],\n",
       "        ...,\n",
       "        [-9999, -9999, -9999, ..., -9999, -9999, -9999],\n",
       "        [-9999, -9999, -9999, ..., -9999, -9999, -9999],\n",
       "        [-9999, -9999, -9999, ..., -9999, -9999, -9999]],\n",
       "\n",
       "       ...,\n",
       "\n",
       "       [[-9999, -9999, -9999, ..., -9999, -9999, -9999],\n",
       "        [-9999, -9999, -9999, ..., -9999, -9999, -9999],\n",
       "        [-9999, -9999, -9999, ..., -9999, -9999, -9999],\n",
       "        ...,\n",
       "        [-9999, -9999, -9999, ..., -9999, -9999, -9999],\n",
       "        [-9999, -9999, -9999, ..., -9999, -9999, -9999],\n",
       "        [-9999, -9999, -9999, ..., -9999, -9999, -9999]],\n",
       "\n",
       "       [[-9999, -9999, -9999, ..., -9999, -9999, -9999],\n",
       "        [-9999, -9999, -9999, ..., -9999, -9999, -9999],\n",
       "        [-9999, -9999, -9999, ..., -9999, -9999, -9999],\n",
       "        ...,\n",
       "        [-9999, -9999, -9999, ..., -9999, -9999, -9999],\n",
       "        [-9999, -9999, -9999, ..., -9999, -9999, -9999],\n",
       "        [-9999, -9999, -9999, ..., -9999, -9999, -9999]],\n",
       "\n",
       "       [[-9999, -9999, -9999, ..., -9999, -9999, -9999],\n",
       "        [-9999, -9999, -9999, ..., -9999, -9999, -9999],\n",
       "        [-9999, -9999, -9999, ..., -9999, -9999, -9999],\n",
       "        ...,\n",
       "        [-9999, -9999, -9999, ..., -9999, -9999, -9999],\n",
       "        [-9999, -9999, -9999, ..., -9999, -9999, -9999],\n",
       "        [-9999, -9999, -9999, ..., -9999, -9999, -9999]]], dtype=int16)"
      ]
     },
     "execution_count": 27,
     "metadata": {},
     "output_type": "execute_result"
    }
   ],
   "source": [
    "# Get the raw values for the reflectance data\n",
    "reflRaw = refl['Reflectance_Data'].value #or can do \"reflData.value\"\n",
    "reflRaw"
   ]
  },
  {
   "cell_type": "code",
   "execution_count": null,
   "metadata": {},
   "outputs": [],
   "source": []
  }
 ],
 "metadata": {
  "kernelspec": {
   "display_name": "Python 3",
   "language": "python",
   "name": "python3"
  },
  "language_info": {
   "codemirror_mode": {
    "name": "ipython",
    "version": 3
   },
   "file_extension": ".py",
   "mimetype": "text/x-python",
   "name": "python",
   "nbconvert_exporter": "python",
   "pygments_lexer": "ipython3",
   "version": "3.5.5"
  }
 },
 "nbformat": 4,
 "nbformat_minor": 2
}
